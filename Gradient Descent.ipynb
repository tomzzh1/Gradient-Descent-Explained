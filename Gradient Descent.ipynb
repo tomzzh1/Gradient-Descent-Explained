{
 "cells": [
  {
   "cell_type": "code",
   "execution_count": 1,
   "metadata": {},
   "outputs": [],
   "source": [
    "import pandas as pd\n",
    "from matplotlib import pyplot as plt\n",
    "import numpy as np\n",
    "import handcalcs.render\n",
    "import seaborn as sns\n",
    "from sympy import *"
   ]
  },
  {
   "cell_type": "markdown",
   "metadata": {},
   "source": [
    "### Gradient Descent illustration"
   ]
  },
  {
   "cell_type": "code",
   "execution_count": 2,
   "metadata": {},
   "outputs": [
    {
     "data": {
      "text/html": [
       "<div>\n",
       "<style scoped>\n",
       "    .dataframe tbody tr th:only-of-type {\n",
       "        vertical-align: middle;\n",
       "    }\n",
       "\n",
       "    .dataframe tbody tr th {\n",
       "        vertical-align: top;\n",
       "    }\n",
       "\n",
       "    .dataframe thead th {\n",
       "        text-align: right;\n",
       "    }\n",
       "</style>\n",
       "<table border=\"1\" class=\"dataframe\">\n",
       "  <thead>\n",
       "    <tr style=\"text-align: right;\">\n",
       "      <th></th>\n",
       "      <th>Weight</th>\n",
       "      <th>Height</th>\n",
       "    </tr>\n",
       "  </thead>\n",
       "  <tbody>\n",
       "    <tr>\n",
       "      <th>0</th>\n",
       "      <td>0.5</td>\n",
       "      <td>1.4</td>\n",
       "    </tr>\n",
       "    <tr>\n",
       "      <th>1</th>\n",
       "      <td>2.3</td>\n",
       "      <td>1.9</td>\n",
       "    </tr>\n",
       "    <tr>\n",
       "      <th>2</th>\n",
       "      <td>2.9</td>\n",
       "      <td>3.2</td>\n",
       "    </tr>\n",
       "  </tbody>\n",
       "</table>\n",
       "</div>"
      ],
      "text/plain": [
       "   Weight  Height\n",
       "0     0.5     1.4\n",
       "1     2.3     1.9\n",
       "2     2.9     3.2"
      ]
     },
     "execution_count": 2,
     "metadata": {},
     "output_type": "execute_result"
    }
   ],
   "source": [
    "data = pd.DataFrame({'Weight':[0.5, 2.3, 2.9],\n",
    "                     'Height':[1.4, 1.9, 3.2]\n",
    "                    })\n",
    "data"
   ]
  },
  {
   "cell_type": "code",
   "execution_count": 26,
   "metadata": {
    "scrolled": true
   },
   "outputs": [
    {
     "data": {
      "image/png": "[encoded data removed]",
      "text/plain": [
       "<Figure size 432x288 with 1 Axes>"
      ]
     },
     "metadata": {
      "needs_background": "light"
     },
     "output_type": "display_data"
    }
   ],
   "source": [
    "plt.title('Gradient Descent on Linear Regression')\n",
    "sns.scatterplot(x ='Weight',y='Height',data=data)\n",
    "sns.lineplot(x= np.arange(0,3, 0.001), y = 0.64*np.arange(0,3, 0.001), color = 'r')\n",
    "plt.show()"
   ]
  },
  {
   "cell_type": "code",
   "execution_count": 21,
   "metadata": {},
   "outputs": [
    {
     "data": {
      "text/plain": [
       "array([0. , 0.1, 0.2, 0.3, 0.4, 0.5, 0.6, 0.7, 0.8, 0.9, 1. , 1.1, 1.2,\n",
       "       1.3, 1.4, 1.5, 1.6, 1.7, 1.8, 1.9, 2. , 2.1, 2.2, 2.3, 2.4, 2.5,\n",
       "       2.6, 2.7, 2.8, 2.9])"
      ]
     },
     "execution_count": 21,
     "metadata": {},
     "output_type": "execute_result"
    }
   ],
   "source": [
    "np.arange(0,3, 0.1)"
   ]
  },
  {
   "cell_type": "markdown",
   "metadata": {},
   "source": [
    "### Predict Height using Weight\n",
    "\n",
    "#### First thing we do is to pick a random value for the interpret\n",
    "\n",
    "**Predict Height = 0 + 0.64 * Weight**"
   ]
  },
  {
   "cell_type": "code",
   "execution_count": 4,
   "metadata": {},
   "outputs": [],
   "source": [
    "predict = 0.64 * data['Weight']\n",
    "actual = data['Height']\n",
    "\n"
   ]
  },
  {
   "cell_type": "code",
   "execution_count": 5,
   "metadata": {},
   "outputs": [
    {
     "data": {
      "text/latex": [
       "\\[\n",
       "\\begin{aligned}\n",
       "\\mathrm{sum}_{of_{squared_{residual}}} &= \\Sigma { \\left( \\mathrm{actual} - \\mathrm{predict} \\right) ^{ 2 } } = \\Sigma { \\left( [1.4,\\ 1.9,\\ 3.2] - [0.32,\\ 1.472,\\ 1.856] \\right) ^{ 2 } } &= 3.156\n",
       "\\end{aligned}\n",
       "\\]"
      ],
      "text/plain": [
       "<IPython.core.display.Latex object>"
      ]
     },
     "metadata": {},
     "output_type": "display_data"
    }
   ],
   "source": [
    "%%render\n",
    "sum_of_squared_residual = sum((actual - predict)**2)\n",
    "\n"
   ]
  },
  {
   "cell_type": "code",
   "execution_count": null,
   "metadata": {},
   "outputs": [],
   "source": []
  },
  {
   "cell_type": "markdown",
   "metadata": {},
   "source": [
    "### Now we take the derivative of the sum of squared residual"
   ]
  },
  {
   "cell_type": "code",
   "execution_count": 6,
   "metadata": {},
   "outputs": [],
   "source": [
    "x = Symbol('x')\n",
    "\n"
   ]
  },
  {
   "cell_type": "code",
   "execution_count": 7,
   "metadata": {},
   "outputs": [
    {
     "data": {
      "text/latex": [
       "\\[\n",
       "\\begin{aligned}\n",
       "f &= \\left( \\mathrm{1.4} - \\left( x + \\mathrm{0.64} \\cdot \\mathrm{0.5} \\right) \\right) ^{ 2 } + \\left( \\mathrm{1.9} - \\left( x + \\mathrm{0.64} \\cdot \\mathrm{2.3} \\right) \\right) ^{ 2 } + \\left( \\mathrm{3.2} - \\left( x + \\mathrm{0.64} \\cdot \\mathrm{2.9} \\right) \\right) ^{ 2 } \\\\&= \\left( 1.4 - \\left( \\displaystyle x + 0.64 \\cdot 0.5 \\right) \\right) ^{ 2 } + \\left( 1.9 - \\left( \\displaystyle x + 0.64 \\cdot 2.3 \\right) \\right) ^{ 2 } + \\left( 3.2 - \\left( \\displaystyle x + 0.64 \\cdot 2.9 \\right) \\right) ^{ 2 } \\\\&= \\displaystyle \\left(0.428 - x\\right)^{2} + 1.1664 \\left(1 - 0.925925925925926 x\\right)^{2} + 1.806336 \\left(1 - 0.744047619047619 x\\right)^{2}\\\\\n",
       "\\end{aligned}\n",
       "\\]"
      ],
      "text/plain": [
       "<IPython.core.display.Latex object>"
      ]
     },
     "metadata": {},
     "output_type": "display_data"
    }
   ],
   "source": [
    "%%render\n",
    "f = (1.4 - (x + 0.64*0.5))**2 + (1.9 - (x + 0.64*2.3))**2 + (3.2 - (x + 0.64*2.9))**2 "
   ]
  },
  {
   "cell_type": "code",
   "execution_count": 8,
   "metadata": {},
   "outputs": [
    {
     "data": {
      "text/latex": [
       "$\\displaystyle 6.0 x - 5.704$"
      ],
      "text/plain": [
       "6.0*x - 5.704"
      ]
     },
     "execution_count": 8,
     "metadata": {},
     "output_type": "execute_result"
    }
   ],
   "source": [
    "learning_rate = 0.1\n",
    "old_intercept = 0\n",
    "f.diff(x)"
   ]
  },
  {
   "cell_type": "markdown",
   "metadata": {},
   "source": [
    "#### Since the x is 0, the step size is -5.704"
   ]
  },
  {
   "cell_type": "code",
   "execution_count": 9,
   "metadata": {},
   "outputs": [
    {
     "data": {
      "text/latex": [
       "\\[\n",
       "\\begin{aligned}\n",
       "\\mathrm{new}_{intercept} &= \\mathrm{old}_{intercept} - \\mathrm{learning}_{rate} \\cdot \\left( - \\mathrm{5.704} \\right) = 0 - 0.1 \\cdot \\left( - 5.704 \\right) &= 0.57\n",
       "\\end{aligned}\n",
       "\\]"
      ],
      "text/plain": [
       "<IPython.core.display.Latex object>"
      ]
     },
     "metadata": {},
     "output_type": "display_data"
    }
   ],
   "source": [
    "%%render\n",
    "\n",
    "new_intercept = old_intercept - learning_rate * -5.704 "
   ]
  },
  {
   "cell_type": "markdown",
   "metadata": {},
   "source": [
    "#### Since the new intercept is 0.57"
   ]
  },
  {
   "cell_type": "code",
   "execution_count": 10,
   "metadata": {},
   "outputs": [
    {
     "data": {
      "text/latex": [
       "\\[\n",
       "\\begin{aligned}\n",
       "\\mathrm{slop} &= 6 \\cdot \\mathrm{0.57} - \\mathrm{5.704} = 6 \\cdot 0.57 - 5.704 &= -2.284\n",
       "\\end{aligned}\n",
       "\\]"
      ],
      "text/plain": [
       "<IPython.core.display.Latex object>"
      ]
     },
     "metadata": {},
     "output_type": "display_data"
    }
   ],
   "source": [
    "%%render\n",
    "\n",
    "slop = 6*0.57 - 5.704"
   ]
  },
  {
   "cell_type": "code",
   "execution_count": 11,
   "metadata": {},
   "outputs": [],
   "source": [
    "old_intercept = new_intercept"
   ]
  },
  {
   "cell_type": "code",
   "execution_count": 12,
   "metadata": {},
   "outputs": [
    {
     "data": {
      "text/latex": [
       "\\[\n",
       "\\begin{aligned}\n",
       "\\mathrm{new}_{intercept} &= \\mathrm{old}_{intercept} - \\mathrm{learning}_{rate} \\cdot \\mathrm{slop} = 0.57 - 0.1 \\cdot -2.284 &= 0.799\n",
       "\\end{aligned}\n",
       "\\]"
      ],
      "text/plain": [
       "<IPython.core.display.Latex object>"
      ]
     },
     "metadata": {},
     "output_type": "display_data"
    }
   ],
   "source": [
    "%%render\n",
    "\n",
    "new_intercept = old_intercept - learning_rate * slop "
   ]
  },
  {
   "cell_type": "code",
   "execution_count": 13,
   "metadata": {},
   "outputs": [
    {
     "data": {
      "text/latex": [
       "\\[\n",
       "\\begin{aligned}\n",
       "\\mathrm{slop} &= 6 \\cdot \\mathrm{0.799} - \\mathrm{5.704} = 6 \\cdot 0.799 - 5.704 &= -0.91\n",
       "\\end{aligned}\n",
       "\\]"
      ],
      "text/plain": [
       "<IPython.core.display.Latex object>"
      ]
     },
     "metadata": {},
     "output_type": "display_data"
    }
   ],
   "source": [
    "%%render\n",
    "\n",
    "slop = 6*0.799 - 5.704"
   ]
  },
  {
   "cell_type": "code",
   "execution_count": 14,
   "metadata": {},
   "outputs": [],
   "source": [
    "old_intercept = new_intercept"
   ]
  },
  {
   "cell_type": "code",
   "execution_count": 15,
   "metadata": {},
   "outputs": [
    {
     "data": {
      "text/latex": [
       "\\[\n",
       "\\begin{aligned}\n",
       "\\mathrm{new}_{intercept} &= \\mathrm{old}_{intercept} - \\mathrm{learning}_{rate} \\cdot \\mathrm{slop} = 0.799 - 0.1 \\cdot -0.91 &= 0.89\n",
       "\\end{aligned}\n",
       "\\]"
      ],
      "text/plain": [
       "<IPython.core.display.Latex object>"
      ]
     },
     "metadata": {},
     "output_type": "display_data"
    }
   ],
   "source": [
    "%%render\n",
    "\n",
    "new_intercept = old_intercept - learning_rate * slop "
   ]
  },
  {
   "cell_type": "markdown",
   "metadata": {},
   "source": [
    "#### In practice, the minimum step size is 0.001 or smaller, the gradient descent will stop if step size is very samll\n",
    "#### It will also stop when it reaches the maximum number of iterations"
   ]
  },
  {
   "cell_type": "code",
   "execution_count": 16,
   "metadata": {},
   "outputs": [],
   "source": [
    "x = Symbol('x')\n",
    "y = Symbol('y')"
   ]
  },
  {
   "cell_type": "code",
   "execution_count": 17,
   "metadata": {},
   "outputs": [
    {
     "data": {
      "text/latex": [
       "\\[\n",
       "\\begin{aligned}\n",
       "f &= \\left( \\mathrm{1.4} - \\left( x + y \\cdot \\mathrm{0.5} \\right) \\right) ^{ 2 } + \\left( \\mathrm{1.9} - \\left( x + y \\cdot \\mathrm{2.3} \\right) \\right) ^{ 2 } + \\left( \\mathrm{3.2} - \\left( x + y \\cdot \\mathrm{2.9} \\right) \\right) ^{ 2 } \\\\&= \\left( 1.4 - \\left( \\displaystyle x + \\displaystyle y \\cdot 0.5 \\right) \\right) ^{ 2 } + \\left( 1.9 - \\left( \\displaystyle x + \\displaystyle y \\cdot 2.3 \\right) \\right) ^{ 2 } + \\left( 3.2 - \\left( \\displaystyle x + \\displaystyle y \\cdot 2.9 \\right) \\right) ^{ 2 } \\\\&= \\displaystyle 1.96 \\left(- 0.714285714285714 x - 0.357142857142857 y + 1\\right)^{2} + 5.29 \\left(- 0.434782608695652 x - y + 0.826086956521739\\right)^{2} + 10.24 \\left(- 0.3125 x - 0.90625 y + 1\\right)^{2}\\\\\n",
       "\\end{aligned}\n",
       "\\]"
      ],
      "text/plain": [
       "<IPython.core.display.Latex object>"
      ]
     },
     "metadata": {},
     "output_type": "display_data"
    }
   ],
   "source": [
    "%%render\n",
    "f = (1.4 - (x + y*0.5))**2 + (1.9 - (x + y*2.3))**2 + (3.2 - (x + y*2.9))**2 "
   ]
  },
  {
   "cell_type": "code",
   "execution_count": 18,
   "metadata": {},
   "outputs": [
    {
     "data": {
      "text/latex": [
       "$\\displaystyle 6.0 x + 11.4 y - 13.0$"
      ],
      "text/plain": [
       "6.0*x + 11.4*y - 13.0"
      ]
     },
     "execution_count": 18,
     "metadata": {},
     "output_type": "execute_result"
    }
   ],
   "source": [
    "f.diff(x)"
   ]
  },
  {
   "cell_type": "code",
   "execution_count": 19,
   "metadata": {},
   "outputs": [
    {
     "data": {
      "text/latex": [
       "$\\displaystyle 11.4 x + 27.9 y - 28.7$"
      ],
      "text/plain": [
       "11.4*x + 27.9*y - 28.7"
      ]
     },
     "execution_count": 19,
     "metadata": {},
     "output_type": "execute_result"
    }
   ],
   "source": [
    "f.diff(y)"
   ]
  },
  {
   "cell_type": "markdown",
   "metadata": {},
   "source": [
    "### Stochastic Gradient Descent\n",
    "\n",
    "#### if we have 23000 variables and 1000000 observations\n",
    "\n",
    "#### We will have 23000 derivatives and 1000000 terms, if we take 1000 steps, there are calculations needs to be made\n",
    "\n",
    "#### Would randomly take one sample for each step\n",
    "\n",
    "#### It is especially useful when there is redundancies in the data"
   ]
  },
  {
   "cell_type": "code",
   "execution_count": 32,
   "metadata": {},
   "outputs": [
    {
     "data": {
      "text/html": [
       "<div>\n",
       "<style scoped>\n",
       "    .dataframe tbody tr th:only-of-type {\n",
       "        vertical-align: middle;\n",
       "    }\n",
       "\n",
       "    .dataframe tbody tr th {\n",
       "        vertical-align: top;\n",
       "    }\n",
       "\n",
       "    .dataframe thead th {\n",
       "        text-align: right;\n",
       "    }\n",
       "</style>\n",
       "<table border=\"1\" class=\"dataframe\">\n",
       "  <thead>\n",
       "    <tr style=\"text-align: right;\">\n",
       "      <th></th>\n",
       "      <th>Weight</th>\n",
       "      <th>Height</th>\n",
       "    </tr>\n",
       "  </thead>\n",
       "  <tbody>\n",
       "    <tr>\n",
       "      <th>0</th>\n",
       "      <td>3.3</td>\n",
       "      <td>3.1</td>\n",
       "    </tr>\n",
       "    <tr>\n",
       "      <th>1</th>\n",
       "      <td>3.2</td>\n",
       "      <td>3.3</td>\n",
       "    </tr>\n",
       "    <tr>\n",
       "      <th>2</th>\n",
       "      <td>3.0</td>\n",
       "      <td>2.9</td>\n",
       "    </tr>\n",
       "    <tr>\n",
       "      <th>3</th>\n",
       "      <td>2.1</td>\n",
       "      <td>2.2</td>\n",
       "    </tr>\n",
       "    <tr>\n",
       "      <th>4</th>\n",
       "      <td>2.2</td>\n",
       "      <td>2.3</td>\n",
       "    </tr>\n",
       "    <tr>\n",
       "      <th>5</th>\n",
       "      <td>2.0</td>\n",
       "      <td>2.1</td>\n",
       "    </tr>\n",
       "    <tr>\n",
       "      <th>6</th>\n",
       "      <td>1.0</td>\n",
       "      <td>0.9</td>\n",
       "    </tr>\n",
       "    <tr>\n",
       "      <th>7</th>\n",
       "      <td>0.9</td>\n",
       "      <td>1.1</td>\n",
       "    </tr>\n",
       "    <tr>\n",
       "      <th>8</th>\n",
       "      <td>1.1</td>\n",
       "      <td>1.0</td>\n",
       "    </tr>\n",
       "  </tbody>\n",
       "</table>\n",
       "</div>"
      ],
      "text/plain": [
       "   Weight  Height\n",
       "0     3.3     3.1\n",
       "1     3.2     3.3\n",
       "2     3.0     2.9\n",
       "3     2.1     2.2\n",
       "4     2.2     2.3\n",
       "5     2.0     2.1\n",
       "6     1.0     0.9\n",
       "7     0.9     1.1\n",
       "8     1.1     1.0"
      ]
     },
     "execution_count": 32,
     "metadata": {},
     "output_type": "execute_result"
    }
   ],
   "source": [
    "data = pd.DataFrame({'Weight':[3.3,3.2,3,  2.1,2.2,2,  1,0.9,1.1],\n",
    "                     'Height':[3.1,3.3,2.9, 2.2,2.3,2.1,  0.9, 1.1,1]\n",
    "                    })\n",
    "data"
   ]
  },
  {
   "cell_type": "code",
   "execution_count": 34,
   "metadata": {},
   "outputs": [
    {
     "data": {
      "image/png": "[encoded data removed]",
      "text/plain": [
       "<Figure size 432x288 with 1 Axes>"
      ]
     },
     "metadata": {
      "needs_background": "light"
     },
     "output_type": "display_data"
    }
   ],
   "source": [
    "plt.title('Gradient Descent on Linear Regression')\n",
    "sns.scatterplot(x ='Weight',y='Height',data=data)\n",
    "sns.lineplot(x= np.arange(0,3.5, 0.001), y = np.arange(0,3.5, 0.001), color = 'r')\n",
    "plt.show()"
   ]
  },
  {
   "cell_type": "markdown",
   "metadata": {},
   "source": [
    "#### It is more common to take mini-batch samples each step\n"
   ]
  },
  {
   "cell_type": "code",
   "execution_count": null,
   "metadata": {},
   "outputs": [],
   "source": []
  }
 ],
 "metadata": {
  "kernelspec": {
   "display_name": "Python 3",
   "language": "python",
   "name": "python3"
  },
  "language_info": {
   "codemirror_mode": {
    "name": "ipython",
    "version": 3
   },
   "file_extension": ".py",
   "mimetype": "text/x-python",
   "name": "python",
   "nbconvert_exporter": "python",
   "pygments_lexer": "ipython3",
   "version": "3.7.9"
  },
  "toc": {
   "base_numbering": 1,
   "nav_menu": {},
   "number_sections": true,
   "sideBar": true,
   "skip_h1_title": false,
   "title_cell": "Table of Contents",
   "title_sidebar": "Contents",
   "toc_cell": false,
   "toc_position": {},
   "toc_section_display": true,
   "toc_window_display": false
  }
 },
 "nbformat": 4,
 "nbformat_minor": 4
}
